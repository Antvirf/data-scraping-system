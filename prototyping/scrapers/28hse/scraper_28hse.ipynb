{
 "cells": [
  {
   "attachments": {},
   "cell_type": "markdown",
   "metadata": {},
   "source": [
    "# Prototyping and testing web scrapers - 28Hse"
   ]
  },
  {
   "cell_type": "code",
   "execution_count": 17,
   "metadata": {},
   "outputs": [],
   "source": [
    "import requests, bs4\n",
    "from pprint import pprint\n",
    "import logging"
   ]
  },
  {
   "attachments": {},
   "cell_type": "markdown",
   "metadata": {},
   "source": [
    "The base page of 28hse rent/residential by default shows some number of latest listings. The idea is to collect all the information about those latest listings and save these."
   ]
  },
  {
   "cell_type": "code",
   "execution_count": 40,
   "metadata": {},
   "outputs": [],
   "source": [
    "def get_domain_from_url(input_url: str) -> str:\n",
    "    # prefixes\n",
    "    for prefix in [\"//\", \"www.\"]:\n",
    "        input_url = input_url if prefix not in input_url else input_url.split(prefix)[1]\n",
    "\n",
    "    # postfixes\n",
    "    for postfixes in [\"/\"]:\n",
    "        input_url = input_url if \"/\" not in url else input_url.split(\"/\")[0]\n",
    "    return input_url\n",
    "\n",
    "url = \"https://www.28hse.com/en/rent/residential\"\n",
    "domain = get_domain_from_url(url)"
   ]
  },
  {
   "attachments": {},
   "cell_type": "markdown",
   "metadata": {},
   "source": [
    "Fetch the page, throw an error if we have an issue. Then, soup it to extract the structure."
   ]
  },
  {
   "cell_type": "code",
   "execution_count": 50,
   "metadata": {},
   "outputs": [],
   "source": [
    "response = requests.get(url)\n",
    "response.raise_for_status()\n",
    "logging.info(f\"{domain}: Webpage fetched successfully\")"
   ]
  },
  {
   "cell_type": "code",
   "execution_count": 53,
   "metadata": {},
   "outputs": [],
   "source": [
    "souped_response = bs4.BeautifulSoup(response.text, 'html.parser')\n",
    "recent_listings = souped_response.select('.property_item')\n",
    "logging.info(f\"{domain}: {len(recent_listings)} recent listings found\")"
   ]
  },
  {
   "attachments": {},
   "cell_type": "markdown",
   "metadata": {},
   "source": [
    "Process a listing entry from 28hse into a dictionary, extracting all available data in a (relatively) failure-safe manner.\n",
    "\n",
    "However this will fail if an \"id\" is missing for an entry."
   ]
  },
  {
   "cell_type": "code",
   "execution_count": 190,
   "metadata": {},
   "outputs": [],
   "source": [
    "def recent_listing_entry_into_dict(entry: bs4.element.Tag) -> dict:\n",
    "    listing_dict = {}\n",
    "    processing_dict = {\n",
    "        \"listingTitle\" : lambda entry: entry.select(\".detail_page\")[1].text,\n",
    "        \"listingId\" : lambda entry: entry.select(\".detail_page\")[1].get_attribute_list(\"attr1\")[0],\n",
    "        \"listingUrl\" : lambda entry: entry.select(\".detail_page\")[1].get_attribute_list(\"href\")[0],\n",
    "        \"listingPostedAgo\":  lambda entry: entry.select(\".description\")[0].select(\".ui\")[0].text.strip(),\n",
    "        \"listingArea\" :  lambda entry: entry.select(\".district_area\")[0].select(\"a\")[0].text,\n",
    "        \"listingBuilding\" :  lambda entry: entry.select(\".district_area\")[0].select(\"a\")[1].text,\n",
    "        \"listingGrossArea\" :  lambda entry: float(entry.select(\".areaUnitPrice\")[0].select(\"div\")[0].text.split(\" \")[2]),\n",
    "        \"listingSaleableArea\" :  lambda entry: float(entry.select(\".areaUnitPrice\")[0].select(\"div\")[1].text.split(\" \")[2]),\n",
    "        \"listingCompanyName\" :  lambda entry: entry.select(\".companyName\")[0].text.strip(),\n",
    "        \"listingPrice\" : lambda entry: float(entry.select(\".green\")[0].text.split(\"$\")[-1].replace(\",\", \"\")),\n",
    "        \"listingTags\" : lambda entry: [x.text.strip() for x in entry.select(\".tagLabels\")[0].select(\".ui\")]\n",
    "    }\n",
    "\n",
    "    for field in processing_dict:\n",
    "        try:\n",
    "            listing_dict[field] = processing_dict[field](entry)\n",
    "        except IndexError:\n",
    "            logging.warning(f\"{domain}: Listing {listing_dict['listingId']}: Failed to fetch field '{field}\")\n",
    "            listing_dict[field] = None\n",
    "\n",
    "    return listing_dict"
   ]
  },
  {
   "cell_type": "code",
   "execution_count": null,
   "metadata": {},
   "outputs": [],
   "source": []
  }
 ],
 "metadata": {
  "kernelspec": {
   "display_name": "base",
   "language": "python",
   "name": "python3"
  },
  "language_info": {
   "codemirror_mode": {
    "name": "ipython",
    "version": 3
   },
   "file_extension": ".py",
   "mimetype": "text/x-python",
   "name": "python",
   "nbconvert_exporter": "python",
   "pygments_lexer": "ipython3",
   "version": "3.9.7"
  },
  "orig_nbformat": 4,
  "vscode": {
   "interpreter": {
    "hash": "40d3a090f54c6569ab1632332b64b2c03c39dcf918b08424e98f38b5ae0af88f"
   }
  }
 },
 "nbformat": 4,
 "nbformat_minor": 2
}
